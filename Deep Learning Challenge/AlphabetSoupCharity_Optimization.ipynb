{
  "cells": [
    {
      "cell_type": "markdown",
      "metadata": {
        "id": "SDFNs_0eWbHs"
      },
      "source": [
        "## Preprocessing"
      ]
    },
    {
      "cell_type": "code",
      "execution_count": 1,
      "metadata": {
        "id": "py5u8xzMWbHt"
      },
      "outputs": [],
      "source": [
        "# Import our dependencies\n",
        "from sklearn.model_selection import train_test_split\n",
        "from sklearn.preprocessing import StandardScaler, OneHotEncoder\n",
        "import pandas as pd\n",
        "import tensorflow as tf\n",
        "\n",
        "#  Import and read the charity_data.csv.\n",
        "import pandas as pd \n"
      ]
    },
    {
      "cell_type": "code",
      "source": [
        "name_df = pd.read_csv(\"https://static.bc-edx.com/data/dl-1-2/m21/lms/starter/charity_data.csv\")\n",
        "name_df.head()"
      ],
      "metadata": {
        "colab": {
          "base_uri": "https://localhost:8080/",
          "height": 496
        },
        "id": "-pMI3K3vyuHw",
        "outputId": "19f46c8b-5535-48a5-b41c-a57a1d552c5f"
      },
      "execution_count": 24,
      "outputs": [
        {
          "output_type": "execute_result",
          "data": {
            "text/plain": [
              "        EIN                                      NAME APPLICATION_TYPE  \\\n",
              "0  10520599              BLUE KNIGHTS MOTORCYCLE CLUB              T10   \n",
              "1  10531628    AMERICAN CHESAPEAKE CLUB CHARITABLE TR               T3   \n",
              "2  10547893        ST CLOUD PROFESSIONAL FIREFIGHTERS               T5   \n",
              "3  10553066            SOUTHSIDE ATHLETIC ASSOCIATION               T3   \n",
              "4  10556103  GENETIC RESEARCH INSTITUTE OF THE DESERT               T3   \n",
              "\n",
              "        AFFILIATION CLASSIFICATION      USE_CASE  ORGANIZATION  STATUS  \\\n",
              "0       Independent          C1000    ProductDev   Association       1   \n",
              "1       Independent          C2000  Preservation  Co-operative       1   \n",
              "2  CompanySponsored          C3000    ProductDev   Association       1   \n",
              "3  CompanySponsored          C2000  Preservation         Trust       1   \n",
              "4       Independent          C1000     Heathcare         Trust       1   \n",
              "\n",
              "      INCOME_AMT SPECIAL_CONSIDERATIONS  ASK_AMT  IS_SUCCESSFUL  \n",
              "0              0                      N     5000              1  \n",
              "1         1-9999                      N   108590              1  \n",
              "2              0                      N     5000              0  \n",
              "3    10000-24999                      N     6692              1  \n",
              "4  100000-499999                      N   142590              1  "
            ],
            "text/html": [
              "\n",
              "  <div id=\"df-0171fc3e-05bf-47dd-b303-df09a792762c\">\n",
              "    <div class=\"colab-df-container\">\n",
              "      <div>\n",
              "<style scoped>\n",
              "    .dataframe tbody tr th:only-of-type {\n",
              "        vertical-align: middle;\n",
              "    }\n",
              "\n",
              "    .dataframe tbody tr th {\n",
              "        vertical-align: top;\n",
              "    }\n",
              "\n",
              "    .dataframe thead th {\n",
              "        text-align: right;\n",
              "    }\n",
              "</style>\n",
              "<table border=\"1\" class=\"dataframe\">\n",
              "  <thead>\n",
              "    <tr style=\"text-align: right;\">\n",
              "      <th></th>\n",
              "      <th>EIN</th>\n",
              "      <th>NAME</th>\n",
              "      <th>APPLICATION_TYPE</th>\n",
              "      <th>AFFILIATION</th>\n",
              "      <th>CLASSIFICATION</th>\n",
              "      <th>USE_CASE</th>\n",
              "      <th>ORGANIZATION</th>\n",
              "      <th>STATUS</th>\n",
              "      <th>INCOME_AMT</th>\n",
              "      <th>SPECIAL_CONSIDERATIONS</th>\n",
              "      <th>ASK_AMT</th>\n",
              "      <th>IS_SUCCESSFUL</th>\n",
              "    </tr>\n",
              "  </thead>\n",
              "  <tbody>\n",
              "    <tr>\n",
              "      <th>0</th>\n",
              "      <td>10520599</td>\n",
              "      <td>BLUE KNIGHTS MOTORCYCLE CLUB</td>\n",
              "      <td>T10</td>\n",
              "      <td>Independent</td>\n",
              "      <td>C1000</td>\n",
              "      <td>ProductDev</td>\n",
              "      <td>Association</td>\n",
              "      <td>1</td>\n",
              "      <td>0</td>\n",
              "      <td>N</td>\n",
              "      <td>5000</td>\n",
              "      <td>1</td>\n",
              "    </tr>\n",
              "    <tr>\n",
              "      <th>1</th>\n",
              "      <td>10531628</td>\n",
              "      <td>AMERICAN CHESAPEAKE CLUB CHARITABLE TR</td>\n",
              "      <td>T3</td>\n",
              "      <td>Independent</td>\n",
              "      <td>C2000</td>\n",
              "      <td>Preservation</td>\n",
              "      <td>Co-operative</td>\n",
              "      <td>1</td>\n",
              "      <td>1-9999</td>\n",
              "      <td>N</td>\n",
              "      <td>108590</td>\n",
              "      <td>1</td>\n",
              "    </tr>\n",
              "    <tr>\n",
              "      <th>2</th>\n",
              "      <td>10547893</td>\n",
              "      <td>ST CLOUD PROFESSIONAL FIREFIGHTERS</td>\n",
              "      <td>T5</td>\n",
              "      <td>CompanySponsored</td>\n",
              "      <td>C3000</td>\n",
              "      <td>ProductDev</td>\n",
              "      <td>Association</td>\n",
              "      <td>1</td>\n",
              "      <td>0</td>\n",
              "      <td>N</td>\n",
              "      <td>5000</td>\n",
              "      <td>0</td>\n",
              "    </tr>\n",
              "    <tr>\n",
              "      <th>3</th>\n",
              "      <td>10553066</td>\n",
              "      <td>SOUTHSIDE ATHLETIC ASSOCIATION</td>\n",
              "      <td>T3</td>\n",
              "      <td>CompanySponsored</td>\n",
              "      <td>C2000</td>\n",
              "      <td>Preservation</td>\n",
              "      <td>Trust</td>\n",
              "      <td>1</td>\n",
              "      <td>10000-24999</td>\n",
              "      <td>N</td>\n",
              "      <td>6692</td>\n",
              "      <td>1</td>\n",
              "    </tr>\n",
              "    <tr>\n",
              "      <th>4</th>\n",
              "      <td>10556103</td>\n",
              "      <td>GENETIC RESEARCH INSTITUTE OF THE DESERT</td>\n",
              "      <td>T3</td>\n",
              "      <td>Independent</td>\n",
              "      <td>C1000</td>\n",
              "      <td>Heathcare</td>\n",
              "      <td>Trust</td>\n",
              "      <td>1</td>\n",
              "      <td>100000-499999</td>\n",
              "      <td>N</td>\n",
              "      <td>142590</td>\n",
              "      <td>1</td>\n",
              "    </tr>\n",
              "  </tbody>\n",
              "</table>\n",
              "</div>\n",
              "      <button class=\"colab-df-convert\" onclick=\"convertToInteractive('df-0171fc3e-05bf-47dd-b303-df09a792762c')\"\n",
              "              title=\"Convert this dataframe to an interactive table.\"\n",
              "              style=\"display:none;\">\n",
              "        \n",
              "  <svg xmlns=\"http://www.w3.org/2000/svg\" height=\"24px\"viewBox=\"0 0 24 24\"\n",
              "       width=\"24px\">\n",
              "    <path d=\"M0 0h24v24H0V0z\" fill=\"none\"/>\n",
              "    <path d=\"M18.56 5.44l.94 2.06.94-2.06 2.06-.94-2.06-.94-.94-2.06-.94 2.06-2.06.94zm-11 1L8.5 8.5l.94-2.06 2.06-.94-2.06-.94L8.5 2.5l-.94 2.06-2.06.94zm10 10l.94 2.06.94-2.06 2.06-.94-2.06-.94-.94-2.06-.94 2.06-2.06.94z\"/><path d=\"M17.41 7.96l-1.37-1.37c-.4-.4-.92-.59-1.43-.59-.52 0-1.04.2-1.43.59L10.3 9.45l-7.72 7.72c-.78.78-.78 2.05 0 2.83L4 21.41c.39.39.9.59 1.41.59.51 0 1.02-.2 1.41-.59l7.78-7.78 2.81-2.81c.8-.78.8-2.07 0-2.86zM5.41 20L4 18.59l7.72-7.72 1.47 1.35L5.41 20z\"/>\n",
              "  </svg>\n",
              "      </button>\n",
              "      \n",
              "  <style>\n",
              "    .colab-df-container {\n",
              "      display:flex;\n",
              "      flex-wrap:wrap;\n",
              "      gap: 12px;\n",
              "    }\n",
              "\n",
              "    .colab-df-convert {\n",
              "      background-color: #E8F0FE;\n",
              "      border: none;\n",
              "      border-radius: 50%;\n",
              "      cursor: pointer;\n",
              "      display: none;\n",
              "      fill: #1967D2;\n",
              "      height: 32px;\n",
              "      padding: 0 0 0 0;\n",
              "      width: 32px;\n",
              "    }\n",
              "\n",
              "    .colab-df-convert:hover {\n",
              "      background-color: #E2EBFA;\n",
              "      box-shadow: 0px 1px 2px rgba(60, 64, 67, 0.3), 0px 1px 3px 1px rgba(60, 64, 67, 0.15);\n",
              "      fill: #174EA6;\n",
              "    }\n",
              "\n",
              "    [theme=dark] .colab-df-convert {\n",
              "      background-color: #3B4455;\n",
              "      fill: #D2E3FC;\n",
              "    }\n",
              "\n",
              "    [theme=dark] .colab-df-convert:hover {\n",
              "      background-color: #434B5C;\n",
              "      box-shadow: 0px 1px 3px 1px rgba(0, 0, 0, 0.15);\n",
              "      filter: drop-shadow(0px 1px 2px rgba(0, 0, 0, 0.3));\n",
              "      fill: #FFFFFF;\n",
              "    }\n",
              "  </style>\n",
              "\n",
              "      <script>\n",
              "        const buttonEl =\n",
              "          document.querySelector('#df-0171fc3e-05bf-47dd-b303-df09a792762c button.colab-df-convert');\n",
              "        buttonEl.style.display =\n",
              "          google.colab.kernel.accessAllowed ? 'block' : 'none';\n",
              "\n",
              "        async function convertToInteractive(key) {\n",
              "          const element = document.querySelector('#df-0171fc3e-05bf-47dd-b303-df09a792762c');\n",
              "          const dataTable =\n",
              "            await google.colab.kernel.invokeFunction('convertToInteractive',\n",
              "                                                     [key], {});\n",
              "          if (!dataTable) return;\n",
              "\n",
              "          const docLinkHtml = 'Like what you see? Visit the ' +\n",
              "            '<a target=\"_blank\" href=https://colab.research.google.com/notebooks/data_table.ipynb>data table notebook</a>'\n",
              "            + ' to learn more about interactive tables.';\n",
              "          element.innerHTML = '';\n",
              "          dataTable['output_type'] = 'display_data';\n",
              "          await google.colab.output.renderOutput(dataTable, element);\n",
              "          const docLink = document.createElement('div');\n",
              "          docLink.innerHTML = docLinkHtml;\n",
              "          element.appendChild(docLink);\n",
              "        }\n",
              "      </script>\n",
              "    </div>\n",
              "  </div>\n",
              "  "
            ]
          },
          "metadata": {},
          "execution_count": 24
        }
      ]
    },
    {
      "cell_type": "code",
      "execution_count": 25,
      "metadata": {
        "colab": {
          "base_uri": "https://localhost:8080/"
        },
        "id": "OOPHh889WbHu",
        "outputId": "f54151bf-26c9-41be-d371-2344f8c70f57"
      },
      "outputs": [
        {
          "output_type": "stream",
          "name": "stderr",
          "text": [
            "<ipython-input-25-b6c2ab7e994d>:3: FutureWarning: In a future version of pandas all arguments of DataFrame.drop except for the argument 'labels' will be keyword-only.\n",
            "  name_df = name_df.drop(['EIN','SPECIAL_CONSIDERATIONS','STATUS'],1)\n"
          ]
        }
      ],
      "source": [
        "# Drop the non-beneficial ID columns, 'EIN' \n",
        "# Dropping additional columns\n",
        "name_df = name_df.drop(['EIN','SPECIAL_CONSIDERATIONS','STATUS'],1)"
      ]
    },
    {
      "cell_type": "code",
      "execution_count": 26,
      "metadata": {
        "colab": {
          "base_uri": "https://localhost:8080/"
        },
        "id": "zVBK0mGYWbHv",
        "outputId": "063f5cff-6090-4312-9bc9-80e9f4d41d6f"
      },
      "outputs": [
        {
          "output_type": "execute_result",
          "data": {
            "text/plain": [
              "NAME                19568\n",
              "APPLICATION_TYPE       17\n",
              "AFFILIATION             6\n",
              "CLASSIFICATION         71\n",
              "USE_CASE                5\n",
              "ORGANIZATION            4\n",
              "INCOME_AMT              9\n",
              "ASK_AMT              8747\n",
              "IS_SUCCESSFUL           2\n",
              "dtype: int64"
            ]
          },
          "metadata": {},
          "execution_count": 26
        }
      ],
      "source": [
        "# Determine the number of unique values in each column.\n",
        "name_df.nunique()"
      ]
    },
    {
      "cell_type": "code",
      "execution_count": 27,
      "metadata": {
        "colab": {
          "base_uri": "https://localhost:8080/"
        },
        "id": "w4IRiip-WbHv",
        "outputId": "f1ff7853-f3e6-4087-97c1-0ead51c6f040"
      },
      "outputs": [
        {
          "output_type": "execute_result",
          "data": {
            "text/plain": [
              "PARENT BOOSTER USA INC                                                  1260\n",
              "TOPS CLUB INC                                                            765\n",
              "UNITED STATES BOWLING CONGRESS INC                                       700\n",
              "WASHINGTON STATE UNIVERSITY                                              492\n",
              "AMATEUR ATHLETIC UNION OF THE UNITED STATES INC                          408\n",
              "                                                                        ... \n",
              "ST LOUIS SLAM WOMENS FOOTBALL                                              1\n",
              "AIESEC ALUMNI IBEROAMERICA CORP                                            1\n",
              "WEALLBLEEDRED ORG INC                                                      1\n",
              "AMERICAN SOCIETY FOR STANDARDS IN MEDIUMSHIP & PSYCHICAL INVESTIGATI       1\n",
              "WATERHOUSE CHARITABLE TR                                                   1\n",
              "Name: NAME, Length: 19568, dtype: int64"
            ]
          },
          "metadata": {},
          "execution_count": 27
        }
      ],
      "source": [
        "# Changing APPLICATION_TYPE to NAME value counts for binning\n",
        "name_counts = name_df['NAME'].value_counts()\n",
        "name_counts"
      ]
    },
    {
      "cell_type": "code",
      "execution_count": 28,
      "metadata": {
        "colab": {
          "base_uri": "https://localhost:8080/"
        },
        "id": "5WxX8-1SWbHv",
        "outputId": "073a108f-82f2-4c34-e99f-3e92ae28db51"
      },
      "outputs": [
        {
          "output_type": "execute_result",
          "data": {
            "text/plain": [
              "Other                                      21022\n",
              "PARENT BOOSTER USA INC                      1260\n",
              "TOPS CLUB INC                                765\n",
              "UNITED STATES BOWLING CONGRESS INC           700\n",
              "WASHINGTON STATE UNIVERSITY                  492\n",
              "                                           ...  \n",
              "CASCADE 4-H FOUNDATION                        10\n",
              "FREE & ACCEPTED MASONS OF WASHINGTON          10\n",
              "NEW MEXICO GARDEN CLUBS INC                   10\n",
              "NATIONAL ASSOCIATION OF HISPANIC NURSES       10\n",
              "UNION OF CALIFORNIA STATE WORKERS             10\n",
              "Name: NAME, Length: 223, dtype: int64"
            ]
          },
          "metadata": {},
          "execution_count": 28
        }
      ],
      "source": [
        "# Choose a cutoff value and create a list of Names to be replaced\n",
        "# use the variable name `name_types_to_replace`\n",
        "# Updating the counts from 1000 to 500, 100\n",
        "name_types_to_replace = list(name_counts[name_counts < 10].index)\n",
        "\n",
        "# Replace in dataframe\n",
        "for app in name_types_to_replace:\n",
        "    name_df['NAME'] = name_df['NAME'].replace(app,\"Other\")\n",
        "\n",
        "# Check to make sure binning was successful\n",
        "name_df['NAME'].value_counts()"
      ]
    },
    {
      "cell_type": "code",
      "execution_count": 29,
      "metadata": {
        "colab": {
          "base_uri": "https://localhost:8080/"
        },
        "id": "AUTbkN7AWbHv",
        "outputId": "64be3706-bf7b-437b-d8c4-80ba20e93a69"
      },
      "outputs": [
        {
          "output_type": "execute_result",
          "data": {
            "text/plain": [
              "C1000    17326\n",
              "C2000     6074\n",
              "C1200     4837\n",
              "C3000     1918\n",
              "C2100     1883\n",
              "         ...  \n",
              "C4120        1\n",
              "C8210        1\n",
              "C2561        1\n",
              "C4500        1\n",
              "C2150        1\n",
              "Name: CLASSIFICATION, Length: 71, dtype: int64"
            ]
          },
          "metadata": {},
          "execution_count": 29
        }
      ],
      "source": [
        "# Look at CLASSIFICATION value counts for binning\n",
        "classification_counts = name_df['CLASSIFICATION'].value_counts()\n",
        "classification_counts"
      ]
    },
    {
      "cell_type": "code",
      "execution_count": 30,
      "metadata": {
        "colab": {
          "base_uri": "https://localhost:8080/"
        },
        "id": "pz1mK4JDWbHw",
        "outputId": "e05c3808-2138-4644-e6de-ec3f1a89d93f"
      },
      "outputs": [
        {
          "output_type": "execute_result",
          "data": {
            "text/plain": [
              "C1000    17326\n",
              "C2000     6074\n",
              "C1200     4837\n",
              "C3000     1918\n",
              "C2100     1883\n",
              "Name: CLASSIFICATION, dtype: int64"
            ]
          },
          "metadata": {},
          "execution_count": 30
        }
      ],
      "source": [
        "# You may find it helpful to look at CLASSIFICATION value counts >1\n",
        "# Changing Classifications 1, 10, 100\n",
        "classification_counts[classification_counts > 1000]"
      ]
    },
    {
      "cell_type": "code",
      "execution_count": 31,
      "metadata": {
        "colab": {
          "base_uri": "https://localhost:8080/"
        },
        "id": "077PGIUuWbHw",
        "outputId": "099f38d9-73fc-478f-c5af-b6bec40b4de6"
      },
      "outputs": [
        {
          "output_type": "execute_result",
          "data": {
            "text/plain": [
              "C1000    17326\n",
              "C2000     6074\n",
              "Other     6062\n",
              "C1200     4837\n",
              "Name: CLASSIFICATION, dtype: int64"
            ]
          },
          "metadata": {},
          "execution_count": 31
        }
      ],
      "source": [
        "# Choose a cutoff value and create a list of classifications to be replaced\n",
        "# use the variable name `classifications_to_replace`\n",
        "# Changing classification counts from 4000 to 1500, 2000\n",
        "\n",
        "classifications_to_replace = list(classification_counts[classification_counts < 4000].index)\n",
        "\n",
        "# Replace in dataframe\n",
        "for cls in classifications_to_replace:\n",
        "    name_df['CLASSIFICATION'] = name_df['CLASSIFICATION'].replace(cls,\"Other\")\n",
        "    \n",
        "# Check to make sure binning was successful\n",
        "name_df['CLASSIFICATION'].value_counts()"
      ]
    },
    {
      "cell_type": "code",
      "execution_count": 32,
      "metadata": {
        "id": "jsDhnizaWbHw"
      },
      "outputs": [],
      "source": [
        "# Convert categorical data to numeric with `pd.get_dummies`\n",
        "df_application_dummies = pd.get_dummies(name_df,dtype=float)"
      ]
    },
    {
      "cell_type": "code",
      "execution_count": 33,
      "metadata": {
        "colab": {
          "base_uri": "https://localhost:8080/"
        },
        "id": "jeNCVuuRWbHw",
        "outputId": "bf644f10-fb53-4164-85ba-3fb2f07eaab7"
      },
      "outputs": [
        {
          "output_type": "stream",
          "name": "stderr",
          "text": [
            "<ipython-input-33-89686ff4d5fa>:3: FutureWarning: In a future version of pandas all arguments of DataFrame.drop except for the argument 'labels' will be keyword-only.\n",
            "  X = df_application_dummies.drop(['IS_SUCCESSFUL'],1).values\n"
          ]
        }
      ],
      "source": [
        "# Split our preprocessed data into our features and target arrays\n",
        "y = df_application_dummies['IS_SUCCESSFUL'].values\n",
        "X = df_application_dummies.drop(['IS_SUCCESSFUL'],1).values\n",
        "\n",
        "# Split the preprocessed data into a training and testing dataset\n",
        "# Changing random state from 33 to 3, 33,42\n",
        "X_train, X_test, y_train, y_test = train_test_split(X, y, random_state=33)"
      ]
    },
    {
      "cell_type": "code",
      "execution_count": 34,
      "metadata": {
        "id": "sr1xIXj0WbHx"
      },
      "outputs": [],
      "source": [
        "# Create a StandardScaler instances\n",
        "scaler = StandardScaler()\n",
        "\n",
        "# Fit the StandardScaler\n",
        "X_scaler = scaler.fit(X_train)\n",
        "\n",
        "# Scale the data\n",
        "X_train_scaled = X_scaler.transform(X_train)\n",
        "X_test_scaled = X_scaler.transform(X_test)"
      ]
    },
    {
      "cell_type": "markdown",
      "metadata": {
        "id": "5yKCnK_CWbHx"
      },
      "source": [
        "## Compile, Train and Evaluate the Model"
      ]
    },
    {
      "cell_type": "code",
      "execution_count": 35,
      "metadata": {
        "colab": {
          "base_uri": "https://localhost:8080/"
        },
        "id": "3FF4lSLeWbHx",
        "outputId": "b6193ac9-d440-4700-8974-cd3f3c0b0ffa"
      },
      "outputs": [
        {
          "output_type": "stream",
          "name": "stdout",
          "text": [
            "Model: \"sequential_2\"\n",
            "_________________________________________________________________\n",
            " Layer (type)                Output Shape              Param #   \n",
            "=================================================================\n",
            " dense_6 (Dense)             (None, 66)                17820     \n",
            "                                                                 \n",
            " dense_7 (Dense)             (None, 9)                 603       \n",
            "                                                                 \n",
            " dense_8 (Dense)             (None, 3)                 30        \n",
            "                                                                 \n",
            " dense_9 (Dense)             (None, 1)                 4         \n",
            "                                                                 \n",
            "=================================================================\n",
            "Total params: 18,457\n",
            "Trainable params: 18,457\n",
            "Non-trainable params: 0\n",
            "_________________________________________________________________\n"
          ]
        }
      ],
      "source": [
        "# Define the model - deep neural net, i.e., the number of input features and hidden nodes for each layer.\n",
        "# Adding hidden layers. Updating counts of layer 1 from 42 to 99,66 Updating layer 2 from 9 to 42, adding 3 layer with a value of 9, 33 \n",
        "# Layer 4 - 3, 9\n",
        "number_input_features = len(X_train_scaled[0])\n",
        "hidden_nodes_layer1 =  66\n",
        "hidden_nodes_layer2 =  9\n",
        "hidden_nodes_layer3 =  3\n",
        "hidden_nodes_layer4 =  9\n",
        "\n",
        "nn = tf.keras.models.Sequential()\n",
        "\n",
        "# First hidden layer\n",
        "# Changing activation method from relu to tanh, selu, para_relu\n",
        "nn.add(\n",
        "    tf.keras.layers.Dense(units=hidden_nodes_layer1, input_dim=number_input_features, activation=\"tanh\")\n",
        ")\n",
        "\n",
        "\n",
        "# Second hidden layer\n",
        "# Changing activation method from relu to \n",
        "nn.add(tf.keras.layers.Dense(units=hidden_nodes_layer2, activation=\"relu\"))\n",
        "\n",
        "# Third hidden layer\n",
        "nn.add(tf.keras.layers.Dense(units=hidden_nodes_layer3, activation=\"relu\"))\n",
        "\n",
        "# Fourth hidden layer\n",
        "#nn.add(tf.keras.layers.Dense(units=hidden_nodes_layer4, activation=\"selu\"))\n",
        "\n",
        "# Output layer\n",
        "nn.add(tf.keras.layers.Dense(units=1, activation=\"sigmoid\"))\n",
        "\n",
        "# Check the structure of the model\n",
        "nn.summary()"
      ]
    },
    {
      "cell_type": "code",
      "execution_count": 36,
      "metadata": {
        "id": "vQbRHddjWbHx"
      },
      "outputs": [],
      "source": [
        "# Compile the model\n",
        "nn.compile(loss='binary_crossentropy', optimizer=\"adam\", metrics=[\"accuracy\"])"
      ]
    },
    {
      "cell_type": "code",
      "execution_count": 37,
      "metadata": {
        "colab": {
          "base_uri": "https://localhost:8080/"
        },
        "id": "y_ypjL6CWbHx",
        "outputId": "94d3cdee-01b4-441e-88b6-de2c05bfa56b"
      },
      "outputs": [
        {
          "output_type": "stream",
          "name": "stdout",
          "text": [
            "Epoch 1/103\n",
            "804/804 [==============================] - 3s 2ms/step - loss: 0.5158 - accuracy: 0.7509\n",
            "Epoch 2/103\n",
            "804/804 [==============================] - 2s 3ms/step - loss: 0.4702 - accuracy: 0.7760\n",
            "Epoch 3/103\n",
            "804/804 [==============================] - 3s 3ms/step - loss: 0.4635 - accuracy: 0.7799\n",
            "Epoch 4/103\n",
            "804/804 [==============================] - 2s 2ms/step - loss: 0.4606 - accuracy: 0.7803\n",
            "Epoch 5/103\n",
            "804/804 [==============================] - 2s 2ms/step - loss: 0.4553 - accuracy: 0.7834\n",
            "Epoch 6/103\n",
            "804/804 [==============================] - 2s 2ms/step - loss: 0.4528 - accuracy: 0.7836\n",
            "Epoch 7/103\n",
            "804/804 [==============================] - 2s 2ms/step - loss: 0.4499 - accuracy: 0.7858\n",
            "Epoch 8/103\n",
            "804/804 [==============================] - 2s 2ms/step - loss: 0.4483 - accuracy: 0.7858\n",
            "Epoch 9/103\n",
            "804/804 [==============================] - 2s 3ms/step - loss: 0.4472 - accuracy: 0.7870\n",
            "Epoch 10/103\n",
            "804/804 [==============================] - 2s 3ms/step - loss: 0.4454 - accuracy: 0.7873\n",
            "Epoch 11/103\n",
            "804/804 [==============================] - 2s 2ms/step - loss: 0.4448 - accuracy: 0.7877\n",
            "Epoch 12/103\n",
            "804/804 [==============================] - 2s 2ms/step - loss: 0.4435 - accuracy: 0.7887\n",
            "Epoch 13/103\n",
            "804/804 [==============================] - 2s 2ms/step - loss: 0.4419 - accuracy: 0.7886\n",
            "Epoch 14/103\n",
            "804/804 [==============================] - 2s 2ms/step - loss: 0.4406 - accuracy: 0.7896\n",
            "Epoch 15/103\n",
            "804/804 [==============================] - 2s 3ms/step - loss: 0.4393 - accuracy: 0.7905\n",
            "Epoch 16/103\n",
            "804/804 [==============================] - 2s 3ms/step - loss: 0.4387 - accuracy: 0.7902\n",
            "Epoch 17/103\n",
            "804/804 [==============================] - 2s 2ms/step - loss: 0.4380 - accuracy: 0.7898\n",
            "Epoch 18/103\n",
            "804/804 [==============================] - 2s 2ms/step - loss: 0.4372 - accuracy: 0.7899\n",
            "Epoch 19/103\n",
            "804/804 [==============================] - 2s 2ms/step - loss: 0.4362 - accuracy: 0.7903\n",
            "Epoch 20/103\n",
            "804/804 [==============================] - 2s 2ms/step - loss: 0.4357 - accuracy: 0.7912\n",
            "Epoch 21/103\n",
            "804/804 [==============================] - 2s 2ms/step - loss: 0.4354 - accuracy: 0.7904\n",
            "Epoch 22/103\n",
            "804/804 [==============================] - 2s 3ms/step - loss: 0.4345 - accuracy: 0.7902\n",
            "Epoch 23/103\n",
            "804/804 [==============================] - 2s 3ms/step - loss: 0.4335 - accuracy: 0.7920\n",
            "Epoch 24/103\n",
            "804/804 [==============================] - 2s 2ms/step - loss: 0.4333 - accuracy: 0.7921\n",
            "Epoch 25/103\n",
            "804/804 [==============================] - 2s 2ms/step - loss: 0.4323 - accuracy: 0.7914\n",
            "Epoch 26/103\n",
            "804/804 [==============================] - 2s 2ms/step - loss: 0.4322 - accuracy: 0.7915\n",
            "Epoch 27/103\n",
            "804/804 [==============================] - 2s 2ms/step - loss: 0.4316 - accuracy: 0.7919\n",
            "Epoch 28/103\n",
            "804/804 [==============================] - 2s 2ms/step - loss: 0.4311 - accuracy: 0.7907\n",
            "Epoch 29/103\n",
            "804/804 [==============================] - 3s 3ms/step - loss: 0.4308 - accuracy: 0.7923\n",
            "Epoch 30/103\n",
            "804/804 [==============================] - 2s 3ms/step - loss: 0.4305 - accuracy: 0.7914\n",
            "Epoch 31/103\n",
            "804/804 [==============================] - 2s 2ms/step - loss: 0.4295 - accuracy: 0.7923\n",
            "Epoch 32/103\n",
            "804/804 [==============================] - 2s 2ms/step - loss: 0.4294 - accuracy: 0.7921\n",
            "Epoch 33/103\n",
            "804/804 [==============================] - 2s 2ms/step - loss: 0.4294 - accuracy: 0.7923\n",
            "Epoch 34/103\n",
            "804/804 [==============================] - 2s 2ms/step - loss: 0.4286 - accuracy: 0.7931\n",
            "Epoch 35/103\n",
            "804/804 [==============================] - 2s 2ms/step - loss: 0.4282 - accuracy: 0.7939\n",
            "Epoch 36/103\n",
            "804/804 [==============================] - 2s 3ms/step - loss: 0.4284 - accuracy: 0.7938\n",
            "Epoch 37/103\n",
            "804/804 [==============================] - 2s 2ms/step - loss: 0.4281 - accuracy: 0.7933\n",
            "Epoch 38/103\n",
            "804/804 [==============================] - 2s 2ms/step - loss: 0.4277 - accuracy: 0.7938\n",
            "Epoch 39/103\n",
            "804/804 [==============================] - 2s 2ms/step - loss: 0.4273 - accuracy: 0.7929\n",
            "Epoch 40/103\n",
            "804/804 [==============================] - 2s 2ms/step - loss: 0.4269 - accuracy: 0.7930\n",
            "Epoch 41/103\n",
            "804/804 [==============================] - 2s 2ms/step - loss: 0.4265 - accuracy: 0.7948\n",
            "Epoch 42/103\n",
            "804/804 [==============================] - 2s 2ms/step - loss: 0.4268 - accuracy: 0.7933\n",
            "Epoch 43/103\n",
            "804/804 [==============================] - 3s 3ms/step - loss: 0.4262 - accuracy: 0.7938\n",
            "Epoch 44/103\n",
            "804/804 [==============================] - 2s 2ms/step - loss: 0.4260 - accuracy: 0.7935\n",
            "Epoch 45/103\n",
            "804/804 [==============================] - 2s 2ms/step - loss: 0.4258 - accuracy: 0.7955\n",
            "Epoch 46/103\n",
            "804/804 [==============================] - 2s 2ms/step - loss: 0.4256 - accuracy: 0.7949\n",
            "Epoch 47/103\n",
            "804/804 [==============================] - 2s 2ms/step - loss: 0.4254 - accuracy: 0.7943\n",
            "Epoch 48/103\n",
            "804/804 [==============================] - 2s 2ms/step - loss: 0.4255 - accuracy: 0.7943\n",
            "Epoch 49/103\n",
            "804/804 [==============================] - 2s 2ms/step - loss: 0.4255 - accuracy: 0.7941\n",
            "Epoch 50/103\n",
            "804/804 [==============================] - 3s 3ms/step - loss: 0.4251 - accuracy: 0.7952\n",
            "Epoch 51/103\n",
            "804/804 [==============================] - 2s 2ms/step - loss: 0.4249 - accuracy: 0.7947\n",
            "Epoch 52/103\n",
            "804/804 [==============================] - 2s 2ms/step - loss: 0.4248 - accuracy: 0.7946\n",
            "Epoch 53/103\n",
            "804/804 [==============================] - 2s 2ms/step - loss: 0.4248 - accuracy: 0.7949\n",
            "Epoch 54/103\n",
            "804/804 [==============================] - 2s 2ms/step - loss: 0.4244 - accuracy: 0.7961\n",
            "Epoch 55/103\n",
            "804/804 [==============================] - 2s 2ms/step - loss: 0.4247 - accuracy: 0.7959\n",
            "Epoch 56/103\n",
            "804/804 [==============================] - 2s 2ms/step - loss: 0.4244 - accuracy: 0.7949\n",
            "Epoch 57/103\n",
            "804/804 [==============================] - 2s 3ms/step - loss: 0.4239 - accuracy: 0.7958\n",
            "Epoch 58/103\n",
            "804/804 [==============================] - 2s 2ms/step - loss: 0.4241 - accuracy: 0.7955\n",
            "Epoch 59/103\n",
            "804/804 [==============================] - 2s 2ms/step - loss: 0.4239 - accuracy: 0.7956\n",
            "Epoch 60/103\n",
            "804/804 [==============================] - 2s 2ms/step - loss: 0.4240 - accuracy: 0.7945\n",
            "Epoch 61/103\n",
            "804/804 [==============================] - 2s 2ms/step - loss: 0.4241 - accuracy: 0.7949\n",
            "Epoch 62/103\n",
            "804/804 [==============================] - 2s 2ms/step - loss: 0.4235 - accuracy: 0.7958\n",
            "Epoch 63/103\n",
            "804/804 [==============================] - 2s 3ms/step - loss: 0.4240 - accuracy: 0.7957\n",
            "Epoch 64/103\n",
            "804/804 [==============================] - 2s 3ms/step - loss: 0.4233 - accuracy: 0.7951\n",
            "Epoch 65/103\n",
            "804/804 [==============================] - 2s 2ms/step - loss: 0.4232 - accuracy: 0.7961\n",
            "Epoch 66/103\n",
            "804/804 [==============================] - 2s 2ms/step - loss: 0.4234 - accuracy: 0.7958\n",
            "Epoch 67/103\n",
            "804/804 [==============================] - 2s 2ms/step - loss: 0.4230 - accuracy: 0.7964\n",
            "Epoch 68/103\n",
            "804/804 [==============================] - 2s 2ms/step - loss: 0.4229 - accuracy: 0.7945\n",
            "Epoch 69/103\n",
            "804/804 [==============================] - 2s 2ms/step - loss: 0.4229 - accuracy: 0.7953\n",
            "Epoch 70/103\n",
            "804/804 [==============================] - 2s 3ms/step - loss: 0.4231 - accuracy: 0.7960\n",
            "Epoch 71/103\n",
            "804/804 [==============================] - 2s 3ms/step - loss: 0.4226 - accuracy: 0.7963\n",
            "Epoch 72/103\n",
            "804/804 [==============================] - 2s 2ms/step - loss: 0.4227 - accuracy: 0.7963\n",
            "Epoch 73/103\n",
            "804/804 [==============================] - 2s 3ms/step - loss: 0.4227 - accuracy: 0.7955\n",
            "Epoch 74/103\n",
            "804/804 [==============================] - 2s 3ms/step - loss: 0.4226 - accuracy: 0.7957\n",
            "Epoch 75/103\n",
            "804/804 [==============================] - 2s 2ms/step - loss: 0.4224 - accuracy: 0.7953\n",
            "Epoch 76/103\n",
            "804/804 [==============================] - 2s 2ms/step - loss: 0.4220 - accuracy: 0.7958\n",
            "Epoch 77/103\n",
            "804/804 [==============================] - 3s 3ms/step - loss: 0.4219 - accuracy: 0.7964\n",
            "Epoch 78/103\n",
            "804/804 [==============================] - 2s 2ms/step - loss: 0.4227 - accuracy: 0.7965\n",
            "Epoch 79/103\n",
            "804/804 [==============================] - 2s 2ms/step - loss: 0.4220 - accuracy: 0.7960\n",
            "Epoch 80/103\n",
            "804/804 [==============================] - 2s 2ms/step - loss: 0.4221 - accuracy: 0.7962\n",
            "Epoch 81/103\n",
            "804/804 [==============================] - 2s 2ms/step - loss: 0.4223 - accuracy: 0.7960\n",
            "Epoch 82/103\n",
            "804/804 [==============================] - 2s 2ms/step - loss: 0.4220 - accuracy: 0.7958\n",
            "Epoch 83/103\n",
            "804/804 [==============================] - 2s 2ms/step - loss: 0.4217 - accuracy: 0.7961\n",
            "Epoch 84/103\n",
            "804/804 [==============================] - 3s 3ms/step - loss: 0.4220 - accuracy: 0.7958\n",
            "Epoch 85/103\n",
            "804/804 [==============================] - 2s 2ms/step - loss: 0.4219 - accuracy: 0.7969\n",
            "Epoch 86/103\n",
            "804/804 [==============================] - 2s 2ms/step - loss: 0.4216 - accuracy: 0.7961\n",
            "Epoch 87/103\n",
            "804/804 [==============================] - 2s 2ms/step - loss: 0.4220 - accuracy: 0.7958\n",
            "Epoch 88/103\n",
            "804/804 [==============================] - 2s 2ms/step - loss: 0.4217 - accuracy: 0.7963\n",
            "Epoch 89/103\n",
            "804/804 [==============================] - 2s 3ms/step - loss: 0.4217 - accuracy: 0.7956\n",
            "Epoch 90/103\n",
            "804/804 [==============================] - 3s 4ms/step - loss: 0.4216 - accuracy: 0.7959\n",
            "Epoch 91/103\n",
            "804/804 [==============================] - 2s 3ms/step - loss: 0.4213 - accuracy: 0.7965\n",
            "Epoch 92/103\n",
            "804/804 [==============================] - 2s 3ms/step - loss: 0.4215 - accuracy: 0.7965\n",
            "Epoch 93/103\n",
            "804/804 [==============================] - 2s 3ms/step - loss: 0.4216 - accuracy: 0.7969\n",
            "Epoch 94/103\n",
            "804/804 [==============================] - 2s 2ms/step - loss: 0.4217 - accuracy: 0.7967\n",
            "Epoch 95/103\n",
            "804/804 [==============================] - 2s 3ms/step - loss: 0.4214 - accuracy: 0.7965\n",
            "Epoch 96/103\n",
            "804/804 [==============================] - 3s 4ms/step - loss: 0.4212 - accuracy: 0.7972\n",
            "Epoch 97/103\n",
            "804/804 [==============================] - 2s 2ms/step - loss: 0.4214 - accuracy: 0.7959\n",
            "Epoch 98/103\n",
            "804/804 [==============================] - 2s 3ms/step - loss: 0.4210 - accuracy: 0.7959\n",
            "Epoch 99/103\n",
            "804/804 [==============================] - 2s 3ms/step - loss: 0.4210 - accuracy: 0.7955\n",
            "Epoch 100/103\n",
            "804/804 [==============================] - 2s 2ms/step - loss: 0.4209 - accuracy: 0.7970\n",
            "Epoch 101/103\n",
            "804/804 [==============================] - 2s 3ms/step - loss: 0.4212 - accuracy: 0.7957\n",
            "Epoch 102/103\n",
            "804/804 [==============================] - 3s 3ms/step - loss: 0.4209 - accuracy: 0.7970\n",
            "Epoch 103/103\n",
            "804/804 [==============================] - 2s 3ms/step - loss: 0.4209 - accuracy: 0.7961\n"
          ]
        }
      ],
      "source": [
        "# Train the model\n",
        "# Increasing number of epochs from 100 to 103\n",
        "fit_model = nn.fit(X_train_scaled,y_train,epochs=103)\n"
      ]
    },
    {
      "cell_type": "code",
      "execution_count": 38,
      "metadata": {
        "colab": {
          "base_uri": "https://localhost:8080/"
        },
        "id": "N4WGC7nEWbHy",
        "outputId": "dc4e4d4f-b2b0-4038-9a1f-76b26fbc68b4"
      },
      "outputs": [
        {
          "output_type": "stream",
          "name": "stdout",
          "text": [
            "268/268 - 0s - loss: 0.4613 - accuracy: 0.7871 - 474ms/epoch - 2ms/step\n",
            "Loss: 0.46127966046333313, Accuracy: 0.7870553731918335\n"
          ]
        }
      ],
      "source": [
        "# Evaluate the model using the test data\n",
        "model_loss, model_accuracy = nn.evaluate(X_test_scaled,y_test,verbose=2)\n",
        "print(f\"Loss: {model_loss}, Accuracy: {model_accuracy}\")"
      ]
    },
    {
      "cell_type": "code",
      "execution_count": 40,
      "metadata": {
        "id": "o6X3ZIslWbHy"
      },
      "outputs": [],
      "source": [
        "# Export our model to HDF5 file\n",
        "nn.save('AlphabetSoupCharity_Optimization.h5')"
      ]
    },
    {
      "cell_type": "code",
      "source": [],
      "metadata": {
        "id": "oeZcoLRKkSbI"
      },
      "execution_count": null,
      "outputs": []
    },
    {
      "cell_type": "code",
      "source": [],
      "metadata": {
        "id": "PLm8e9cGhgLU"
      },
      "execution_count": null,
      "outputs": []
    }
  ],
  "metadata": {
    "kernelspec": {
      "display_name": "Python 3",
      "language": "python",
      "name": "python3"
    },
    "language_info": {
      "codemirror_mode": {
        "name": "ipython",
        "version": 3
      },
      "file_extension": ".py",
      "mimetype": "text/x-python",
      "name": "python",
      "nbconvert_exporter": "python",
      "pygments_lexer": "ipython3",
      "version": "3.-1.-1"
    },
    "vscode": {
      "interpreter": {
        "hash": "31f2aee4e71d21fbe5cf8b01ff0e069b9275f58929596ceb00d14d90e3e16cd6"
      }
    },
    "colab": {
      "provenance": []
    }
  },
  "nbformat": 4,
  "nbformat_minor": 0
}